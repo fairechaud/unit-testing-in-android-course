{
 "cells": [
  {
   "attachments": {},
   "cell_type": "markdown",
   "metadata": {},
   "source": [
    "# Test-driven development"
   ]
  },
  {
   "attachments": {},
   "cell_type": "markdown",
   "metadata": {},
   "source": [
    "Reverse engineering APIs and logic in order to design unit tests introduces problems. Some issues associated with deducing unit tests based on production code:\n",
    "\n",
    "+ It is hard to deduce requirements just by looking at the public APIs: In real code you'll find complex classes tasked with many responsibilities, inferring test requirements from APIs becomes close to impossible\n",
    "+ You'll most likely be testing your own code, your own design: you should try to force a blackbox analysis on the code during implementation to avoid intrinsic bias\n",
    "+ Can't know whether all the requirements were tested: 100% line coverage doesn't mean that you have tested ALL possible scenarios, it just guarantees that you tested the scenarios the code accounts for\n",
    "+ Test writing after production code = Boring\n",
    "\n",
    "A solution for these problems is writing the tests BEFORE you write the production code. This is known as **Test Driven Development** or TDD"
   ]
  },
  {
   "attachments": {},
   "cell_type": "markdown",
   "metadata": {},
   "source": [
    "==================================================================================================================="
   ]
  },
  {
   "attachments": {},
   "cell_type": "markdown",
   "metadata": {},
   "source": [
    "# TDD Techniques"
   ]
  },
  {
   "attachments": {},
   "cell_type": "markdown",
   "metadata": {},
   "source": [
    "## All tests up-front\n",
    "\n"
   ]
  }
 ],
 "metadata": {
  "kernelspec": {
   "display_name": "Python 3",
   "language": "python",
   "name": "python3"
  },
  "language_info": {
   "codemirror_mode": {
    "name": "ipython",
    "version": 3
   },
   "file_extension": ".py",
   "mimetype": "text/x-python",
   "name": "python",
   "nbconvert_exporter": "python",
   "pygments_lexer": "ipython3",
   "version": "3.10.9"
  },
  "orig_nbformat": 4
 },
 "nbformat": 4,
 "nbformat_minor": 2
}
