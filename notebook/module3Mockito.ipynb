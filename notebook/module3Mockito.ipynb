{
 "cells": [
  {
   "attachments": {},
   "cell_type": "markdown",
   "metadata": {},
   "source": [
    "# Mockito framework"
   ]
  },
  {
   "attachments": {},
   "cell_type": "markdown",
   "metadata": {},
   "source": [
    "**Using mockito**\n",
    "\n",
    "\n",
    "Writing test doubles can be optimized by employing a mocking framework, i.e. using Mockito instead of writing them by hand. This makes the process faster and more efficient.\n",
    "\n",
    "==================================================================================================================="
   ]
  },
  {
   "attachments": {},
   "cell_type": "markdown",
   "metadata": {},
   "source": [
    "# Exercise 5\n"
   ]
  },
  {
   "attachments": {},
   "cell_type": "markdown",
   "metadata": {},
   "source": [
    "Bug was located in a helper class that was delivering UserId whenever the getUsername method was called. This involved taking a deep dive into all the different objects and data structures that were being called by the technical implementation. \n",
    "\n",
    "This concept is about to be important."
   ]
  },
  {
   "attachments": {},
   "cell_type": "markdown",
   "metadata": {},
   "source": [
    "==================================================================================================================="
   ]
  },
  {
   "attachments": {},
   "cell_type": "markdown",
   "metadata": {},
   "source": [
    "# Objects vs data structures\n",
    "\n",
    "Mixing behaviors with data is to be avoided as this introduces complexity and will make unit testing difficult.\n",
    "\n",
    "The userMess class has both behavior (working implementation that's hidden) and data (exposed internals):\n",
    "\n",
    "<img src=\"img/userMess.png\">\n",
    "\n",
    "In reality, there should be a clear distinction between behavior classes and data classes:\n",
    "\n",
    "* Objects: It hides implementation details and only exposes behavior. Its purpose is ***to perform some operation***\n",
    "* Data structures: Bundles a bunch of data together. Its purpose is not to expose behavior, but to ***expose data***\n",
    "\n",
    "Classes/objects that mix these two concept together will have at least 2 very distant responsibilities."
   ]
  },
  {
   "attachments": {},
   "cell_type": "markdown",
   "metadata": {},
   "source": [
    "# Object-oriented programming\n",
    "\n",
    "### NOTE: There are objects AND data structures BUT they're not the SAME \n",
    "So, doesn't this defeat the whole purpose of OoP? Having objects both expose attributes (data) and methods (behavior)?\n",
    "\n",
    "It is true, OoP allows for objects to have both behavior AND data bundled together, but, the premise of OoP is the ***\"single responsibility principle\"***, i.e. **exposing a behavior and exposing data are two different things and no class in OoP should expose both at the same time**"
   ]
  },
  {
   "attachments": {},
   "cell_type": "markdown",
   "metadata": {},
   "source": [
    "# Objects\n",
    "\n",
    "* Expose behavior AND hide implementation details\n",
    "* When objects have other objects as dependencies, these NEED TO BE be injected FROM OUTSIDE\n",
    "* Objects ***need to be validated throught unit testing to ensure these behave properly***\n",
    "* Objects are eligible to be substituted by test doubles during unit testing"
   ]
  },
  {
   "attachments": {},
   "cell_type": "markdown",
   "metadata": {},
   "source": [
    "# Data structures\n",
    "\n",
    "* Expose data and should not have behavior nor implementation at all\n",
    "* Data structures can be instatiated whenever needed, either by objects or other data structures\n",
    "* Data structures do not require specific unit tests, ***they are implicitly tested whenever you unit test the objects that use data structures***\n",
    "* Data structures do not need to be substituted by test doubles"
   ]
  },
  {
   "attachments": {},
   "cell_type": "markdown",
   "metadata": {},
   "source": [
    "# Summary\n",
    "\n",
    "Understanding and respecting the difference between objects and data structures is fundamental to Object-oriented design in general.\n",
    "\n",
    "*TO READ:*\n",
    "\n",
    "* Clean code by Robert C. Martin"
   ]
  },
  {
   "attachments": {},
   "cell_type": "markdown",
   "metadata": {},
   "source": [
    "from https://hackernoon.com/objects-vs-data-structures-e380b962c1d2\n",
    "\n",
    "# Objects vs. Data Structures\n",
    "\n",
    "Object-oriented programming (OOP) introduced the world to the concept of objects (little “o”). \n",
    "\n",
    "+ ***OOP objects are encapsulation boundaries around state that provide some kind of public behavior.***\n",
    "\n",
    "Java introduced a Java Class called “Object” (with a big “O”). Java Objects are instances of the Object class (including all subclasses). \n",
    "\n",
    "+ ***These Objects are language constructs, not conceptual constructs.***\n",
    "\n"
   ]
  },
  {
   "attachments": {},
   "cell_type": "markdown",
   "metadata": {},
   "source": [
    "## Data structure\n",
    "\n",
    "Consider a data structure representing a person that includes a first name, last name, and phone number. In Java, that data structure might look like this:"
   ]
  },
  {
   "cell_type": "code",
   "execution_count": null,
   "metadata": {
    "vscode": {
     "languageId": "javascript"
    }
   },
   "outputs": [],
   "source": [
    "public class Person \n",
    "{\n",
    "    public String firstName;\n",
    "    public String lastName;\n",
    "    public String phoneNumber;\n",
    "}"
   ]
  },
  {
   "attachments": {},
   "cell_type": "markdown",
   "metadata": {},
   "source": [
    "The data structures provides 3 string fields that can be read or written.\n",
    "\n",
    "The important point is that the Java Person Object isn’t an “object” at all, it's a data structure. The Person Object exists to organize some data into a single entity that can be passed around and managed as a whole.\n",
    "But what if the Java Person Object looked like this:"
   ]
  },
  {
   "cell_type": "code",
   "execution_count": null,
   "metadata": {
    "vscode": {
     "languageId": "javascript"
    }
   },
   "outputs": [],
   "source": [
    "public class Person {\n",
    "    private String mFirstName;\n",
    "    private String mLastName;\n",
    "    private String mPhoneNumber;\n",
    "\n",
    "    public String getFirstName() {return mFirstName;} \n",
    "    public void setFirstName(String firstName) {mFirstName = firstName;}    \n",
    "    public String getLastName() {return mLastName;}\n",
    "    public void setLastName(String lastName) {mLastName = lastName;}\n",
    "    public String getPhoneNumber() {return mPhoneNumber;}\n",
    "    public void setPhoneNumber(String phoneNumber) {mPhoneNumber = phoneNumber;}\n",
    "}"
   ]
  },
  {
   "attachments": {},
   "cell_type": "markdown",
   "metadata": {},
   "source": [
    "Now is the Java Object a real object? Now it has private data and public methods. It must be an OOP object, right?\n",
    "\n",
    "Even with public getters and setters, *Person is still a data structure*. Has its purpose changed? Has its behavior changed? No. The Person Object would still be used in the same manner and fashion as its public-property predecessor. **The getter/setter version of Person is still 100% a data structure.**\n",
    "\n",
    "Ok, what if we start adding some behavior to Person, like this:"
   ]
  },
  {
   "cell_type": "code",
   "execution_count": null,
   "metadata": {
    "vscode": {
     "languageId": "javascript"
    }
   },
   "outputs": [],
   "source": [
    "public class Person {\n",
    "    //... same getters/setters as before, except one:  \n",
    "    public void setPhoneNumber(String phoneNumber) throws FormatException {validatePhoneNumber(phoneNumber);mPhoneNumber = phoneNumber;}\n",
    "    private void validatePhoneNumber(String phoneNumber) throws FormatException {\n",
    "        // Do validation here to ensure we have a legit phone number.\n",
    "        // Throw an exception if its invalid.\n",
    "        }\n",
    "    }"
   ]
  },
  {
   "attachments": {},
   "cell_type": "markdown",
   "metadata": {},
   "source": [
    "Even this latest incarnation of Person isn’t completely an OOP object. It’s more of a Franken-object. The phone number validation behavior really is behavior — its a service — which is what OOP objects are supposed to be. But notice that we still have all of these methods that exist to read and write state. \n",
    "\n",
    "There really isn’t any state hiding here, and there isn’t much behavior at all. Person still remains primarily a data structure that exposes its entire state, does almost nothing, and will be used as a concrete type throughout the code base."
   ]
  },
  {
   "attachments": {},
   "cell_type": "markdown",
   "metadata": {},
   "source": [
    "## OOP Objects\n",
    "\n",
    "What does an OOP object look like? It looks like a service. **An OOP object is a construct that does things — it behaves and acts.** A Person data structure has a first name, last name, and phone number. A Person object walks, runs, jumps, and speaks. A Person object does things.\n",
    "\n",
    "Here are some OOP object examples:"
   ]
  },
  {
   "cell_type": "code",
   "execution_count": null,
   "metadata": {
    "vscode": {
     "languageId": "javascript"
    }
   },
   "outputs": [],
   "source": [
    "public interface PhoneNumberValidator {\n",
    "    boolean validate(String phoneNumber);\n",
    "    }"
   ]
  },
  {
   "attachments": {},
   "cell_type": "markdown",
   "metadata": {},
   "source": [
    "*PhoneNumberValidator* validates that a given String represents a correctly formatted phone number. There is no indication of internal state within the validator. Maybe the validator has state, or maybe it doesn’t, but we do know it offers the service of phone number validation."
   ]
  },
  {
   "cell_type": "code",
   "execution_count": null,
   "metadata": {
    "vscode": {
     "languageId": "javascript"
    }
   },
   "outputs": [],
   "source": [
    "public interface PersonDataStore {\n",
    "    Person getPeople(PeopleQuery query);\n",
    "    void addPerson(Person person);\n",
    "    void removePerson(Person person);\n",
    "    }"
   ]
  },
  {
   "attachments": {},
   "cell_type": "markdown",
   "metadata": {},
   "source": [
    "*PersonDataStore* provides a mechanism for storing and querying Person data structures. In this example, both Person and PeopleQuery are data structures — they simply organize information. However, the PersonDataStore is an object that provides services. Namely, PersonDataStore can take a PeopleQuery data structure and find all the Person data structures that match the criteria in the query."
   ]
  },
  {
   "attachments": {},
   "cell_type": "markdown",
   "metadata": {},
   "source": [
    "## Confusing Objects and Data Structures\n",
    "\n",
    "Consider the Person data structure again. In the final example we added phone number validation behavior. You can imagine that we might want similar validations for first name and last name. Moreover, when we add more fields to this data structure, those fields might need to be validated as well.\n",
    "\n",
    "The problem with validation behavior on our Person data structure is that we have created a candidate that will routinely violate the **Open/Closed Principle, the Single Responsibility Principle, and the Interface Segregation Principle:**\n",
    "+ **Open/Closed Principle:** Each new field requires opening the Person class and adding code for validation.\n",
    "+ **Single Responsibility Principle:** The Person class now has the responsibility of structuring data, validating first names, validating last names, and validating phone numbers. That’s a lot of responsibilities that can vary independently.\n",
    "+ **Interface Segregation Principle:** Imagine that you are concerned only with collecting a phone number. When you work with an instance of Person, you depend not only on the validatePhoneNumber() method, but also the validateFirstName() and validateLastName() methods. Thus, you are dependent upon methods that you do not require and therefore you have violated the Interface Segregation Principle."
   ]
  },
  {
   "attachments": {},
   "cell_type": "markdown",
   "metadata": {},
   "source": [
    "## Data vs. Behavior\n",
    "\n",
    "The general lesson that we can learn from this Person example is that data and behavior do not vary together. Data is grouped by I/O considerations like web API input formats and database schemas. However, behavior is grouped by use-cases that represent what a client wants to do with the application.\n",
    "\n",
    "When we take data structures and we begin adding behavior then we invite all of the OOP violations seen in the Person example.\n",
    "\n",
    "Instead, define behaviors based on your use-cases, define data structures based on your I/O requirements, and then define objects to connect the two. For example, an Android Activity might define a method like the following:"
   ]
  },
  {
   "cell_type": "code",
   "execution_count": null,
   "metadata": {
    "vscode": {
     "languageId": "javascript"
    }
   },
   "outputs": [],
   "source": [
    "// Called when the user finishes entering a phone number.\n",
    "\n",
    "private void onPhoneNumberSet() {\n",
    "    String phoneNumber = mPhoneNumberTextView.getText().toString();\n",
    "    boolean isValid = mPhoneNumberValidator.validate(phoneNumber);\n",
    "    if (isValid) {mPerson.setPhoneNumber(phoneNumber);} else {\n",
    "        // Notify user of problem.\n",
    "    }\n",
    "}"
   ]
  },
  {
   "attachments": {},
   "cell_type": "markdown",
   "metadata": {},
   "source": [
    "In this example, Person remains its own data structure that doesn’t know about validation behavior. Then, there is a PhoneNumberValidator object that knows how to validate a phone number string, but doesn’t know anything about the Person data structure. Finally, the containing Activity orchestrates the phone number validation followed by setting the phone number data on the Person data structure.\n",
    "\n",
    "When its time to submit the Person data to a datasource (web or local DB), you can imagine something like this:"
   ]
  },
  {
   "cell_type": "code",
   "execution_count": null,
   "metadata": {
    "vscode": {
     "languageId": "javascript"
    }
   },
   "outputs": [],
   "source": [
    "private void doSubmit() {\n",
    "    mPersonDataStore.addPerson(mPerson);\n",
    "}"
   ]
  },
  {
   "attachments": {},
   "cell_type": "markdown",
   "metadata": {},
   "source": [
    "We don’t know whether the PersonDataStore is talking to a local DB, or to a web server, or even to local memory. All we know is that our use-case responsibility is to collect Person data and store it. We used OOP objects to validate the input, and now we use an OOP object to store the data. During this process, the data was collected in the Person data structure.\n",
    "\n",
    "## Why All The Fuss?\n",
    "\n",
    "Why should anyone care about this nuanced distinction between data structures and objects?\n",
    "\n",
    "**Data structures are state.**\n",
    "\n",
    "Therefore, passing around data structures means sharing state, and shared state is the root of all evil. The reason OOP objects were invented was to provide a paradigm where shared state could be minimized and controlled (that’s why we should Package Wisely).\n",
    "\n",
    "*read:* https://mattcarroll.medium.com/package-wisely-4899f9580d3#.7em3f8gel\n",
    "\n",
    "Think of data structures as an interchange format within your code, between your OOP objects. Consider the following code:\n"
   ]
  },
  {
   "cell_type": "code",
   "execution_count": null,
   "metadata": {
    "vscode": {
     "languageId": "javascript"
    }
   },
   "outputs": [],
   "source": [
    "objectA.doThing1();\n",
    "objectA.doThing2();\n",
    "\n",
    "myDataStructure = objectA.extractState();\n",
    "\n",
    "objectB.setState(myDataStructure);\n",
    "objectB.doThing3();\n",
    "objectB.doThing4();"
   ]
  },
  {
   "attachments": {},
   "cell_type": "markdown",
   "metadata": {},
   "source": [
    "1. We use objectA to do some work. \n",
    "2. Then we extract the state of objectA by obtaining a data structure. \n",
    "3. We initialize objectB by sending in the data structure we obtain from A, and now objectB does some work. \n",
    "\n",
    "In this example there is an implied immutability to myDataStructure such that changing myDataStructure would not have any hidden, internal impact on objectA or objectB.\n",
    "The data structure simply provides a mechanism for moving around organized state. It does not offer any behavior of its own. This is how we should aim to utilize data structures in our code. It's also important to realize that state extraction should be a relatively low-frequency operation. Most of the time you should aim for objects to accept and return other objects, not data structures.\n",
    "\n",
    "**You should aim to employ data structures only when crossing between different domain in your application**. For example, when you receive input in your I/O domain, then you might use a data structure to inject that data into your business domain. Likewise, when you need to present something visually to the user, you might use a data structure to extract the information from your business domain and send it into your visual domain. Data structures are an interchange format between application domain.\n",
    "\n",
    "As you develop your applications, keep in mind that Java Objects are not necessarily OOP objects, data structures are never the same thing as OOP objects, and you should be sure to recognize and separate these different constructs."
   ]
  },
  {
   "attachments": {},
   "cell_type": "markdown",
   "metadata": {},
   "source": [
    "# Unit Tests structure"
   ]
  },
  {
   "attachments": {},
   "cell_type": "markdown",
   "metadata": {},
   "source": [
    "So far, unit tests with mocks have been constructed following a pattern. This is known as the triple A pattern:\n",
    "\n",
    "+ **Arrange:** Sets up the environment according to test requirements\n",
    "+ **Act:** Calls the actual logic/behavior\n",
    "+ **Assert:** Verifies the system under test is behaving according to spec\n",
    "\n",
    "<img src=\"img/structUnit.png\">"
   ]
  },
  {
   "attachments": {},
   "cell_type": "markdown",
   "metadata": {},
   "source": [
    "# Annotation-based Mockito initilization\n",
    "\n",
    "You can annotate the program with Mockito references and get rid of clutter in the setup method:\n",
    "\n",
    "<img src=\"img/mockitoInit.png\">\n",
    "\n",
    "Similar to this annotation shortcuts, Test Class templates can be designed to automate all the clutter and repetitive imports."
   ]
  },
  {
   "attachments": {},
   "cell_type": "markdown",
   "metadata": {},
   "source": [
    "# Summary\n",
    "\n",
    "+ Mockito is a library that makes it easy to create stubs and mocks\n",
    "+ Mockito is a powerful and versatile framework\n",
    "+ if Mockito automation is not enough to fully test a unit, fall back to manually designing unit tests\n",
    "+ Mockito is simple and convenient, testing frameworks are a personal preference\n",
    "+ The more Mockito features - more complexity\n",
    "+ Objects vs Data strucutres is a fundamental distinction in OoP & OoD\n",
    "+ Objects need to be explicitly tested\n",
    "+ Inject objects from outside to allow substitution with test doubles\n",
    "+ Data structures are implicitly tested\n",
    "+ Instantiate data structures whenever needed"
   ]
  }
 ],
 "metadata": {
  "kernelspec": {
   "display_name": "Python 3",
   "language": "python",
   "name": "python3"
  },
  "language_info": {
   "codemirror_mode": {
    "name": "ipython",
    "version": 3
   },
   "file_extension": ".py",
   "mimetype": "text/x-python",
   "name": "python",
   "nbconvert_exporter": "python",
   "pygments_lexer": "ipython3",
   "version": "3.10.9"
  },
  "orig_nbformat": 4
 },
 "nbformat": 4,
 "nbformat_minor": 2
}
