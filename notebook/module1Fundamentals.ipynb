{
 "cells": [
  {
   "attachments": {},
   "cell_type": "markdown",
   "metadata": {},
   "source": [
    "# Fundamentals and introduction"
   ]
  },
  {
   "attachments": {},
   "cell_type": "markdown",
   "metadata": {},
   "source": [
    "**Unit:**\n",
    "* Container of functionality, clearly defined boundary, a class in most OOP languages\n",
    "\n",
    "**Testing:**\n",
    "* Making sure that a functionality does what it's supposed to do\n"
   ]
  },
  {
   "attachments": {},
   "cell_type": "markdown",
   "metadata": {},
   "source": [
    "# Unit testing definition\n",
    "\n",
    "***\"Ensuring that a class does what it's supposed to do\"***\n",
    "\n",
    "You test units by invoking their methods ensuring they behave according to spec = you apply predefined inputs and evaluate the output according to the expected result.\n",
    "\n",
    "JUnit is the unit testing framework for Java, IDEs like Android Studio make it easy to use this framework and run unit testing in an intuitive way by automating most of the test creation."
   ]
  },
  {
   "attachments": {},
   "cell_type": "markdown",
   "metadata": {},
   "source": [
    "# Android Studio (+JUnit)\n",
    "\n",
    "<img src=\"img/androidStudio.png\">\n",
    "\n",
    "AndroidStudio is able to directly create tests for a class by right-clicking on int, Go to.. Tests as shown on the image above"
   ]
  },
  {
   "attachments": {},
   "cell_type": "markdown",
   "metadata": {},
   "source": [
    "# Performing unit testing\n",
    "\n",
    "To properly perform unit testing, you should **avoid** coming in contact with the \"internal implementation\" of the tested unit = Do not see the source code as you would become *biased*.\n",
    "\n",
    "Ideally, you should derive test cases from spec NOT from the technical implementation i.e., if you know how the code works, you might be inclined to write tests based on the code and not the requirements."
   ]
  },
  {
   "attachments": {},
   "cell_type": "markdown",
   "metadata": {},
   "source": [
    "# Naming unit tests\n",
    "\n",
    "If a **properly named** test fails, you could easily investigate and fix the issue without the need for ***reading the source***\n",
    "\n",
    "Unit test name pattern: \n",
    "\n",
    "**unitOfWork_stateUnderTest_expectedBehavior**\n",
    "\n",
    "+ unitOfWork: a method name, a general function or a flow\n",
    "+ stateUnderTest: the value or state that's currently being fed, a scenario\n",
    "+ expectedBehavior: the expected output"
   ]
  },
  {
   "attachments": {},
   "cell_type": "markdown",
   "metadata": {},
   "source": [
    "# Creating unit tests\n",
    "\n",
    "+ Go to the class you want to test\n",
    "+ Create Test (Ctrl+Shift+T, Create New Test...)\n",
    "+ Define System Under Test\n",
    "+ Initialize SUT for each test, Generate setup method (Alt+Insert, Setup Method) \n",
    "+ Write the actual tests, Generate test method (Alt+Insert, Test method)"
   ]
  },
  {
   "attachments": {},
   "cell_type": "markdown",
   "metadata": {},
   "source": [
    "# Choosing test cases:\n",
    "\n",
    "+ 100% line coverage is necessary but not sufficient to ensure good coverage of SUT functionality\n",
    "+ Identify different groups of input combinations = different states\n",
    "+ Write at least one test case for each representative group\n",
    "\n"
   ]
  },
  {
   "attachments": {},
   "cell_type": "markdown",
   "metadata": {},
   "source": [
    "# Module summary:\n",
    "\n",
    "+ Unit test ensure SUT (unit) is behaving according to the REQs\n",
    "+ Unit tests names provide the info required for failure investigation and debug\n",
    "+ Treat all arguments and return valus as non-nullable\n",
    "+ Think about different groups of combinations of StateUnderTest and test at least one representative from each group\n",
    "+ Identify and test boundary conditions\n",
    "\n"
   ]
  },
  {
   "cell_type": "markdown",
   "metadata": {},
   "source": []
  }
 ],
 "metadata": {
  "kernelspec": {
   "display_name": "Python 3",
   "language": "python",
   "name": "python3"
  },
  "language_info": {
   "codemirror_mode": {
    "name": "ipython",
    "version": 3
   },
   "file_extension": ".py",
   "mimetype": "text/x-python",
   "name": "python",
   "nbconvert_exporter": "python",
   "pygments_lexer": "ipython3",
   "version": "3.10.9"
  },
  "orig_nbformat": 4
 },
 "nbformat": 4,
 "nbformat_minor": 2
}
