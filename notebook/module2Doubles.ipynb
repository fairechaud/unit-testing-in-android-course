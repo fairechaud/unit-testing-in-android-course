{
 "cells": [
  {
   "attachments": {},
   "cell_type": "markdown",
   "metadata": {},
   "source": [
    "# Doubles and fundamentals"
   ]
  },
  {
   "attachments": {},
   "cell_type": "markdown",
   "metadata": {},
   "source": [
    "**Unit testing with dependencies**\n",
    "\n",
    "You cannot test the real implementation because it will take time and real dependencies to process, e.g. testing a Login class will require real http domains and network requests.\n",
    "\n",
    "You want to run unit testing and get results regardless of real-world implementation, no connection, etc., the catch is that for most cases, running tests with real dependencies is not possible, this brings us to ***test doubles***.\n"
   ]
  },
  {
   "attachments": {},
   "cell_type": "markdown",
   "metadata": {},
   "source": [
    "# Test doubles\n",
    "\n",
    "***\"Scenario: you want to perform unit testing but the class have interdepencencies that have to be satisfied. If you were to use these other dependencies, it would make the test unreliable and slow, e.g. processing time, real network requests, production scenarios, etc.\"***\n",
    "\n",
    "You can go about this by writing specific alternative implementations to be used in testing. These are called **test doubles** and there's three mains types:\n",
    "\n",
    "+ Fake: Working subsistition for the real unit, it is optimized for testing\n",
    "+ Stub: Returns predefined data needed for test, hardcoded unit\n",
    "+ Mock: Record interactions during test\n"
   ]
  },
  {
   "attachments": {},
   "cell_type": "markdown",
   "metadata": {},
   "source": [
    "# Choosing test cases for test doubles:\n",
    "\n",
    "You'll have to create *test doubles* for all the external dependencies to be instantiated during the test. The test double type will depend on the nature of the implementation, sometimes some investigation and reverse-engineering is necessary to properly evalute the SUT.\n",
    "\n",
    "Example 4 implements a *mock* to record the values passed into the class:\n",
    "\n",
    "<img src=\"img/loginMock.png\">\n",
    "\n",
    "1. loginSync receives a method call and parameters, records them into variables that we can later inspect\n",
    "\n"
   ]
  },
  {
   "attachments": {},
   "cell_type": "markdown",
   "metadata": {},
   "source": [
    "A fake is utilized to return a SUCCESS value once an AuthToken has been recorded.\n",
    "\n",
    "<img src=\"img/loginFakeAuth.png\">\n",
    "\n",
    "2. Whenever a login takes place, AuthToken is recorded and this action is known as the SUCCESS state. This was specifically designed as to emulate the real behavior for this unit test = working implementation\n",
    "\n",
    "<img src=\"img/loginFakeAuthWorking.png\">"
   ]
  },
  {
   "attachments": {},
   "cell_type": "markdown",
   "metadata": {},
   "source": [
    "A single test double can have multiple resposibilities:\n",
    "\n",
    "<img src=\"img/loginFakeError.png\">\n",
    "\n",
    "The \"GENERAL_ERROR\" = TRUE state is hardcoded into the test.\n",
    "\n",
    "<img src=\"img/loginFakeGeneralError.png\">\n",
    "\n",
    "3. Here, if no AuthToken is recorded, the fake responds with another state called \"GENERAL_ERROR\". This expands the scope of the original tests and makes sure we ensure all possible states\n",
    "\n",
    "**NOTE: This logic is the same for AuthToken and Server errors**"
   ]
  },
  {
   "attachments": {},
   "cell_type": "markdown",
   "metadata": {},
   "source": [
    "# Test case failure:\n",
    "\n",
    "When test cases fail, there's only three possibilities:\n",
    "\n",
    "1. The test case is wrong\n",
    "2. There is a bug in the production code\n",
    "3. The requirement is not implemented, we are testing something not included in the requirement\n",
    "\n",
    "Things to assert: 1. We got the requirement right = REQ is sane & 2. Our test case was designed correctly\n",
    "\n",
    "If both of these are correct, there's only one possibility = code needs debugging\n",
    "\n",
    "**CONSIDERATIONS: Every change we make to the production code needs running ALL testcases again**\n"
   ]
  },
  {
   "attachments": {},
   "cell_type": "markdown",
   "metadata": {},
   "source": [
    "# Test case success:\n",
    "\n",
    "+ Once test suite is passed succesfully, we shall rerun all test cases WITH coverage.\n",
    "+ Do code cleanup, unit testing code shall be at least as clean as production code"
   ]
  },
  {
   "attachments": {},
   "cell_type": "markdown",
   "metadata": {},
   "source": [
    "==============================================================================\n",
    "# Types of mocks:\n",
    "\n",
    "\"Mock\" is used interchangebly to refer to:\n",
    "+ any test double in general\n",
    "+ test double of type \"mock\" as described in previous section\n",
    "+ a test double implemented using \"mocking\" frameworks"
   ]
  },
  {
   "attachments": {},
   "cell_type": "markdown",
   "metadata": {},
   "source": [
    "# Static calls\n",
    "\n",
    "Since these are hidden, non-public API calls, these cannot unit-tested. Do not avoid them completely but keep in mind to not use them as often."
   ]
  },
  {
   "attachments": {},
   "cell_type": "markdown",
   "metadata": {},
   "source": [
    "# Singletons\n",
    "\n",
    "Singletons are a mix between static methods and static states, they allow for crosstalk between dependencies and they make testing impossible. You should avoid them at all costs, they can cause tests to randomly fail and they are difficult to investigate since they make use of hidden references.\n",
    "\n",
    "In conclusion = don't use singletons if you want your code to be unit-testable."
   ]
  },
  {
   "attachments": {},
   "cell_type": "markdown",
   "metadata": {},
   "source": [
    "# Module summary:\n",
    "\n"
   ]
  },
  {
   "attachments": {},
   "cell_type": "markdown",
   "metadata": {},
   "source": [
    "+ Test doubles are used to substitute external dependencies in tests\n",
    "+ Three main types of test doubles: fake, stub and mock\n",
    "+ Fake is a functional implementation optimized for testing\n",
    "+ Stub returns predefined data and can have programmable behavior\n",
    "+ Mock records interactions with itself and can be used to ensure that SUT uses dependencies as intended\n",
    "+ Static methods have hidden dependencies and can't be subsituted with test doubles\n",
    "+ Singletons are to be avoided at all costs"
   ]
  }
 ],
 "metadata": {
  "kernelspec": {
   "display_name": "Python 3",
   "language": "python",
   "name": "python3"
  },
  "language_info": {
   "codemirror_mode": {
    "name": "ipython",
    "version": 3
   },
   "file_extension": ".py",
   "mimetype": "text/x-python",
   "name": "python",
   "nbconvert_exporter": "python",
   "pygments_lexer": "ipython3",
   "version": "3.10.9"
  },
  "orig_nbformat": 4
 },
 "nbformat": 4,
 "nbformat_minor": 2
}
